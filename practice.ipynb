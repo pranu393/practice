{
  "nbformat": 4,
  "nbformat_minor": 0,
  "metadata": {
    "colab": {
      "provenance": [],
      "authorship_tag": "ABX9TyNU3UPbYvPQsLZa14Gqhk7Q",
      "include_colab_link": true
    },
    "kernelspec": {
      "name": "python3",
      "display_name": "Python 3"
    },
    "language_info": {
      "name": "python"
    }
  },
  "cells": [
    {
      "cell_type": "markdown",
      "metadata": {
        "id": "view-in-github",
        "colab_type": "text"
      },
      "source": [
        "<a href=\"https://colab.research.google.com/github/pranu393/practice/blob/main/practice.ipynb\" target=\"_parent\"><img src=\"https://colab.research.google.com/assets/colab-badge.svg\" alt=\"Open In Colab\"/></a>"
      ]
    },
    {
      "cell_type": "code",
      "execution_count": null,
      "metadata": {
        "id": "KiIsg0H1b7ua",
        "colab": {
          "base_uri": "https://localhost:8080/"
        },
        "outputId": "86447ab7-1652-4f6e-9824-452425588fef"
      },
      "outputs": [
        {
          "output_type": "stream",
          "name": "stdout",
          "text": [
            "My name is Rodger\n",
            "My name is Tommy\n"
          ]
        }
      ],
      "source": [
        "class Dog:\n",
        "  \n",
        "  def __init__(self,name):\n",
        "      self.name=name\n",
        "  def speak(self):\n",
        "      print(\"My name is {}\".format(self.name))\n",
        "Rodger = Dog(\"Rodger\")\n",
        "Tommy = Dog(\"Tommy\")\n",
        "Rodger.speak()\n",
        "Tommy.speak()"
      ]
    },
    {
      "cell_type": "markdown",
      "source": [
        "Inheritance\n"
      ],
      "metadata": {
        "id": "vlwdYy1ZNA9I"
      }
    },
    {
      "cell_type": "code",
      "source": [
        "class Person(object):\n",
        "  def __init__(self,name,idnumber):\n",
        "    self.name=name\n",
        "    self.idnumber=idnumber\n",
        "  def desplay(self):\n",
        "    print(\"My name is {}\".format(self.name))\n",
        "    print(\"idnumber:{}\".format(self.idnumber))\n",
        "\n",
        "class Employee(Person):\n",
        "  def __init__(self,name,idnumber,sailary,post):\n",
        "    self.sailary=sailary\n",
        "    self.post=post\n",
        "    Person.__init__(self,name,idnumber)\n",
        "  def details(self):\n",
        "    print(\"My name is {}\".format(self.name))\n",
        "    print(\"idnumber:{}\".format(self.idnumber))\n",
        "    print(\"sailary:{}\".format(self.sailary))\n",
        "    print(\"post:{}\".format(self.post))\n",
        "a=Employee('Pranu',78978,20000,\"accontant\")\n",
        "a.desplay()\n",
        "a.details()"
      ],
      "metadata": {
        "colab": {
          "base_uri": "https://localhost:8080/"
        },
        "id": "cD1WIvg7M_6p",
        "outputId": "9a00baba-7f92-4fe3-8cdb-489b1dd47606"
      },
      "execution_count": null,
      "outputs": [
        {
          "output_type": "stream",
          "name": "stdout",
          "text": [
            "My name is Pranu\n",
            "idnumber:78978\n",
            "My name is Pranu\n",
            "idnumber:78978\n",
            "sailary:20000\n",
            "post:accontant\n"
          ]
        }
      ]
    },
    {
      "cell_type": "markdown",
      "source": [
        "Polymorphism\n",
        "\n"
      ],
      "metadata": {
        "id": "RP1fcOtaR2pm"
      }
    },
    {
      "cell_type": "code",
      "source": [
        "class Bird:\n",
        "  def intro(self):\n",
        "    print(\"There are maney types of birds.\")\n",
        "  def flight(self):\n",
        "    print(\"Most of the birds can fly but some cannot.\")\n",
        "class sparrow(Bird):\n",
        "\n",
        "   def flight(self):\n",
        "     print(\"sparrow can fly.\")\n",
        "class ostriched (Bird):\n",
        "\n",
        "   def flight(self):\n",
        "    print(\"Ostriched cannot fly.\")\n",
        "obj_bird=Bird()\n",
        "obj_spr=sparrow()\n",
        "obj_ost=ostriched()\n",
        "obj_bird.intro()\n",
        "obj_bird.flight()\n",
        "obj_spr.intro()\n",
        "obj_spr.flight()\n",
        "obj_ost.intro()\n",
        "obj_ost.flight()"
      ],
      "metadata": {
        "colab": {
          "base_uri": "https://localhost:8080/"
        },
        "id": "LuHCkK5YR_Mx",
        "outputId": "435db4d4-7531-4bae-b624-2c08bb1fdd1c"
      },
      "execution_count": null,
      "outputs": [
        {
          "output_type": "stream",
          "name": "stdout",
          "text": [
            "There are maney types of birds.\n",
            "Most of the birds can fly but some cannot.\n",
            "There are maney types of birds.\n",
            "sparrow can fly.\n",
            "There are maney types of birds.\n",
            "Ostriched cannot fly.\n"
          ]
        }
      ]
    },
    {
      "cell_type": "code",
      "source": [
        "class Duck:\n",
        "  def qack(self):\n",
        "     print(\"Quaaaaack!\")\n",
        "  def feathers(self):\n",
        "    print(\" the duck has white and gray feathers.\")\n",
        "  \n",
        "class Person:\n",
        "  def qack(self):\n",
        "     print(\"the person imitates a duck\")\n",
        "  def feathers(self):\n",
        "     print(\"the person takes a featther from the grond and shows it.\")\n",
        "  def name(self):\n",
        "      print(\"John smith\")\n",
        "def in_the_forest(obj):\n",
        "   obj.qack()\n",
        "   obj.feathers()\n",
        "donald=Duck()\n",
        "john=Person()\n",
        "in_the_forest(donald)\n",
        "in_the_forest(john)\n"
      ],
      "metadata": {
        "colab": {
          "base_uri": "https://localhost:8080/"
        },
        "id": "LmVF_hp5-1pc",
        "outputId": "7b0bf0da-4af8-4023-f4fd-1af53d98a985"
      },
      "execution_count": null,
      "outputs": [
        {
          "output_type": "stream",
          "name": "stdout",
          "text": [
            "Quaaaaack!\n",
            " the duck has white and gray feathers.\n",
            "the person imitates a duck\n",
            "the person takes a featther from the grond and shows it.\n"
          ]
        }
      ]
    },
    {
      "cell_type": "code",
      "source": [],
      "metadata": {
        "id": "_P1LSM2uC6KJ"
      },
      "execution_count": null,
      "outputs": []
    },
    {
      "cell_type": "markdown",
      "source": [
        "Encapsulation"
      ],
      "metadata": {
        "id": "eVEuddj7geKO"
      }
    },
    {
      "cell_type": "code",
      "source": [
        "class Base:\n",
        "  def __init__(self):\n",
        "     self.a=\"PranuChadhari\"\n",
        "     self.__c=\"PranuChadhari\"\n",
        "class Derived(Base):\n",
        "   def __init__(self):\n",
        "     Base.__init__(self)\n",
        "     print(\"Calling private member of base class:\")\n",
        "     print(self.__c)\n",
        "obj1=Base()\n",
        "print(obj1.a)"
      ],
      "metadata": {
        "colab": {
          "base_uri": "https://localhost:8080/"
        },
        "id": "7sa1M0U5gk5r",
        "outputId": "c087422f-9445-4442-e77d-196a7d92c87a"
      },
      "execution_count": null,
      "outputs": [
        {
          "output_type": "stream",
          "name": "stdout",
          "text": [
            "PranuChadhari\n"
          ]
        }
      ]
    }
  ]
}