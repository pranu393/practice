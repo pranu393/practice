{
  "nbformat": 4,
  "nbformat_minor": 0,
  "metadata": {
    "colab": {
      "provenance": [],
      "authorship_tag": "ABX9TyPPEy40q1rW2iFNr5efQCEh",
      "include_colab_link": true
    },
    "kernelspec": {
      "name": "python3",
      "display_name": "Python 3"
    },
    "language_info": {
      "name": "python"
    }
  },
  "cells": [
    {
      "cell_type": "markdown",
      "metadata": {
        "id": "view-in-github",
        "colab_type": "text"
      },
      "source": [
        "<a href=\"https://colab.research.google.com/github/pranu393/practice/blob/main/oops.ipynb\" target=\"_parent\"><img src=\"https://colab.research.google.com/assets/colab-badge.svg\" alt=\"Open In Colab\"/></a>"
      ]
    },
    {
      "cell_type": "code",
      "execution_count": 1,
      "metadata": {
        "colab": {
          "base_uri": "https://localhost:8080/"
        },
        "id": "G7XGZ7QNf2ix",
        "outputId": "9cb8a102-fe05-43a3-833a-70600bd07794"
      },
      "outputs": [
        {
          "output_type": "stream",
          "name": "stdout",
          "text": [
            "numbers 1 3 5\n",
            "square of numbers 1 9 25\n",
            "square sum of numbers 35\n"
          ]
        }
      ],
      "source": [
        "#### challenge 1 Square Numbers and Return Their Sum: \n",
        "class Point:\n",
        "\n",
        "    def __init__(self,x,y,z):\n",
        "        self.x = x\n",
        "        self.y = y\n",
        "        self.z = z\n",
        "\n",
        "    def sqSum(self):\n",
        "        print(\"numbers\", self.x,self.y,self.z) \n",
        "        print(\"square of numbers\",self.x**2,self.y**2,self.z**2)\n",
        "        print(\"square sum of numbers\",self.x**2+self.y**2+self.z**2)\n",
        "\n",
        "\n",
        "\n",
        "Point_obj=Point(1,3,5)\n",
        "Point_obj.sqSum()"
      ]
    }
  ]
}