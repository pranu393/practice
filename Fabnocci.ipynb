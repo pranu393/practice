{
  "nbformat": 4,
  "nbformat_minor": 0,
  "metadata": {
    "colab": {
      "provenance": [],
      "authorship_tag": "ABX9TyOx77x8ODCkZ5hZWcTmhQOs",
      "include_colab_link": true
    },
    "kernelspec": {
      "name": "python3",
      "display_name": "Python 3"
    },
    "language_info": {
      "name": "python"
    }
  },
  "cells": [
    {
      "cell_type": "markdown",
      "metadata": {
        "id": "view-in-github",
        "colab_type": "text"
      },
      "source": [
        "<a href=\"https://colab.research.google.com/github/pranu393/practice/blob/main/Fabnocci.ipynb\" target=\"_parent\"><img src=\"https://colab.research.google.com/assets/colab-badge.svg\" alt=\"Open In Colab\"/></a>"
      ]
    },
    {
      "cell_type": "code",
      "execution_count": 3,
      "metadata": {
        "colab": {
          "base_uri": "https://localhost:8080/"
        },
        "id": "wtRk8eDmSARJ",
        "outputId": "6240ca79-d633-4a5b-c6a7-dc7375e14f2e"
      },
      "outputs": [
        {
          "output_type": "stream",
          "name": "stdout",
          "text": [
            "Number of terms?    8\n",
            "[0, 1, 1, 2, 3, 5, 8, 13]\n"
          ]
        }
      ],
      "source": [
        "### FABNOCCI SERIES\n",
        "x=int(input(\"Number of terms?\"))\n",
        "fiblist=[0,1]\n",
        "if(x<=0):\n",
        "    print(\"Enter a positive no.!!\")\n",
        "elif(x==1):\n",
        "    print (fiblist[0])\n",
        "elif(x==2):\n",
        "    print (fiblist)\n",
        "\n",
        "else:\n",
        "    for i in range (2,x):\n",
        "        fib= fiblist[i-1] + fiblist[i-2]\n",
        "        fiblist.append(fib)\n",
        "    print(fiblist)"
      ]
    }
  ]
}