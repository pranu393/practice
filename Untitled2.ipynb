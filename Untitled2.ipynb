{
  "nbformat": 4,
  "nbformat_minor": 0,
  "metadata": {
    "colab": {
      "provenance": [],
      "authorship_tag": "ABX9TyO+XRuwcMm2TiS6boMtLPkp",
      "include_colab_link": true
    },
    "kernelspec": {
      "name": "python3",
      "display_name": "Python 3"
    },
    "language_info": {
      "name": "python"
    }
  },
  "cells": [
    {
      "cell_type": "markdown",
      "metadata": {
        "id": "view-in-github",
        "colab_type": "text"
      },
      "source": [
        "<a href=\"https://colab.research.google.com/github/pranu393/practice/blob/main/Untitled2.ipynb\" target=\"_parent\"><img src=\"https://colab.research.google.com/assets/colab-badge.svg\" alt=\"Open In Colab\"/></a>"
      ]
    },
    {
      "cell_type": "code",
      "execution_count": null,
      "metadata": {
        "id": "nKHvGI13Qwo0"
      },
      "outputs": [],
      "source": []
    },
    {
      "cell_type": "markdown",
      "source": [
        "Create a null vector of size 10 but the fifth value which is 1."
      ],
      "metadata": {
        "id": "zJWCJ2nzSj8d"
      }
    },
    {
      "cell_type": "code",
      "source": [
        "import numpy as np\n",
        "a=np.zeros(10)\n",
        "a[4]=1\n",
        "print(a)"
      ],
      "metadata": {
        "colab": {
          "base_uri": "https://localhost:8080/"
        },
        "id": "RXfVIP-7Sqtl",
        "outputId": "416e220f-782c-468d-b5a6-255f50134704"
      },
      "execution_count": 1,
      "outputs": [
        {
          "output_type": "stream",
          "name": "stdout",
          "text": [
            "[0. 0. 0. 0. 1. 0. 0. 0. 0. 0.]\n"
          ]
        }
      ]
    },
    {
      "cell_type": "code",
      "source": [],
      "metadata": {
        "id": "HPOgsLJGS7dA"
      },
      "execution_count": null,
      "outputs": []
    },
    {
      "cell_type": "markdown",
      "source": [
        "Create a vector with values ranging from 10 to 49."
      ],
      "metadata": {
        "id": "-2xBA_noS8Ci"
      }
    },
    {
      "cell_type": "code",
      "source": [
        "a=np.arange(10,49)\n",
        "print(a)"
      ],
      "metadata": {
        "colab": {
          "base_uri": "https://localhost:8080/"
        },
        "id": "h4RA0u69TDMM",
        "outputId": "f75b4493-9d2a-48fa-b86a-7fa6b14551f8"
      },
      "execution_count": 2,
      "outputs": [
        {
          "output_type": "stream",
          "name": "stdout",
          "text": [
            "[10 11 12 13 14 15 16 17 18 19 20 21 22 23 24 25 26 27 28 29 30 31 32 33\n",
            " 34 35 36 37 38 39 40 41 42 43 44 45 46 47 48]\n"
          ]
        }
      ]
    },
    {
      "cell_type": "markdown",
      "source": [
        "Create a 3x3 matrix with values ranging from 0 to 8"
      ],
      "metadata": {
        "id": "oH1tImZNTPN0"
      }
    },
    {
      "cell_type": "code",
      "source": [
        "a=np.arange(9).reshape(3,3)\n",
        "print(a)"
      ],
      "metadata": {
        "colab": {
          "base_uri": "https://localhost:8080/"
        },
        "id": "n3L_p3hbTbFN",
        "outputId": "99c67767-9651-470e-daa6-34be9e383c81"
      },
      "execution_count": 3,
      "outputs": [
        {
          "output_type": "stream",
          "name": "stdout",
          "text": [
            "[[0 1 2]\n",
            " [3 4 5]\n",
            " [6 7 8]]\n"
          ]
        }
      ]
    },
    {
      "cell_type": "markdown",
      "source": [
        "Find indices of non-zero elements from [1,2,0,0,4,0]"
      ],
      "metadata": {
        "id": "9BQA51O2TmQT"
      }
    },
    {
      "cell_type": "code",
      "source": [
        "a=np.nonzero([1,2,0,0,4])\n",
        "print(a)"
      ],
      "metadata": {
        "colab": {
          "base_uri": "https://localhost:8080/"
        },
        "id": "4ceWKL-HTzrS",
        "outputId": "2154a641-d672-4a16-dda4-cf74a5ee4851"
      },
      "execution_count": 4,
      "outputs": [
        {
          "output_type": "stream",
          "name": "stdout",
          "text": [
            "(array([0, 1, 4]),)\n"
          ]
        }
      ]
    },
    {
      "cell_type": "markdown",
      "source": [
        "Create a 10x10 array with random values and find the minimum and maximum values."
      ],
      "metadata": {
        "id": "b0QSNnhtT8UE"
      }
    },
    {
      "cell_type": "code",
      "source": [
        "A=np.random.random((10,10))\n",
        "Amin,Amax=A.min(),A.max()\n",
        "print(Amin,Amax)"
      ],
      "metadata": {
        "colab": {
          "base_uri": "https://localhost:8080/"
        },
        "id": "1ZpuCGPIUEPt",
        "outputId": "4a3df407-1a88-4468-de0d-418b78194370"
      },
      "execution_count": 5,
      "outputs": [
        {
          "output_type": "stream",
          "name": "stdout",
          "text": [
            "0.002607822578483354 0.9972923487298891\n"
          ]
        }
      ]
    },
    {
      "cell_type": "markdown",
      "source": [
        "Create a random vector of size 30 and find the mean value."
      ],
      "metadata": {
        "id": "s7SJPooqULNa"
      }
    },
    {
      "cell_type": "code",
      "source": [
        "A=np.random.random(30)\n",
        "b=A.mean()\n",
        "print(b)"
      ],
      "metadata": {
        "colab": {
          "base_uri": "https://localhost:8080/"
        },
        "id": "t9JVM3ugURTQ",
        "outputId": "c1765455-1933-47de-f84b-57fba9b24090"
      },
      "execution_count": 6,
      "outputs": [
        {
          "output_type": "stream",
          "name": "stdout",
          "text": [
            "0.47279384593492146\n"
          ]
        }
      ]
    }
  ]
}