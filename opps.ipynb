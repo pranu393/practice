{
  "nbformat": 4,
  "nbformat_minor": 0,
  "metadata": {
    "colab": {
      "provenance": [],
      "authorship_tag": "ABX9TyMvsH0l33SoxAV0dzzBEDJX",
      "include_colab_link": true
    },
    "kernelspec": {
      "name": "python3",
      "display_name": "Python 3"
    },
    "language_info": {
      "name": "python"
    }
  },
  "cells": [
    {
      "cell_type": "markdown",
      "metadata": {
        "id": "view-in-github",
        "colab_type": "text"
      },
      "source": [
        "<a href=\"https://colab.research.google.com/github/pranu393/practice/blob/main/opps.ipynb\" target=\"_parent\"><img src=\"https://colab.research.google.com/assets/colab-badge.svg\" alt=\"Open In Colab\"/></a>"
      ]
    },
    {
      "cell_type": "code",
      "source": [
        "### ### Challenge 2 :Implement the Complete Student Class\n",
        "class Student:\n",
        "\n",
        "    def setName(self,Name):\n",
        "        self.setName = Name\n",
        "    def getName(self,):\n",
        "        return self.getNmae\n",
        "    def setRollNumber(self,RollNumber):\n",
        "        self.setRollNumber = RollNumber\n",
        "    def getRollNumber(self,):\n",
        "        return self.getRollNumber\n",
        "\n",
        "\n",
        "Student_obj=Student() \n",
        "Student_obj.Name=\"Pranu\"\n",
        "Student_obj.RollNumber=30\n",
        "print(Student_obj.Name)\n",
        "print(Student_obj.RollNumber)\n"
      ],
      "metadata": {
        "colab": {
          "base_uri": "https://localhost:8080/"
        },
        "id": "KV0iPNn_gtE7",
        "outputId": "2a79211c-af92-4ceb-90e0-f88f7f0d1f47"
      },
      "execution_count": 2,
      "outputs": [
        {
          "output_type": "stream",
          "name": "stdout",
          "text": [
            "Pranu\n",
            "30\n"
          ]
        }
      ]
    }
  ]
}