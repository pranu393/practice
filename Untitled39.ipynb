{
  "nbformat": 4,
  "nbformat_minor": 0,
  "metadata": {
    "colab": {
      "provenance": [],
      "authorship_tag": "ABX9TyOwzJu4+0eaAuKS8CY+wlhj",
      "include_colab_link": true
    },
    "kernelspec": {
      "name": "python3",
      "display_name": "Python 3"
    },
    "language_info": {
      "name": "python"
    }
  },
  "cells": [
    {
      "cell_type": "markdown",
      "metadata": {
        "id": "view-in-github",
        "colab_type": "text"
      },
      "source": [
        "<a href=\"https://colab.research.google.com/github/pranu393/practice/blob/main/Untitled39.ipynb\" target=\"_parent\"><img src=\"https://colab.research.google.com/assets/colab-badge.svg\" alt=\"Open In Colab\"/></a>"
      ]
    },
    {
      "cell_type": "code",
      "source": [
        "#### Challenge 4 :Handling a Bank Account\n",
        "class account:\n",
        "    def __init__(self,title=None,balance=0,diposite=0):\n",
        "        self.title=input(\"enter your name\",) \n",
        "        self.balance=int(input(\"enter your account balance\",))\n",
        "\n",
        "    def withdrawal(self,ammount):\n",
        "        self.ammount=ammount\n",
        "        self.balance-=ammount\n",
        "\n",
        "    def deposit(self,ammount):\n",
        "        self.ammount=ammount\n",
        "        self.balance+=ammount\n",
        "\n",
        "    def get_balance(self):\n",
        "        print(\"account balance:\",self.balance)   \n",
        "\n",
        "class savingaccount(account):\n",
        "    def __init__(self, title=None, balance=0):\n",
        "        super().__init__(title, balance)\n",
        "        self.interestrate=int(input(\"interest rate\",)) \n",
        "\n",
        "    def interestammount(self):\n",
        "        interest_ammount=self.interestrate*self.balance/100\n",
        "        print(\"interest_ammount\")\n",
        "\n",
        "    def display(self):\n",
        "        print(\"self.title\",\"self.balance\",\"self.interestrate\")\n",
        "\n",
        "\n",
        "account_obj=account()\n",
        "account_obj.withdrawal(int(input(\"enter withdrawa ammount:\")))     \n",
        "account_obj.get_balance()\n",
        "account_obj.diposit(int(input(\"enter diposite ammount:\")))\n",
        "account_obj.get_balance() \n",
        "account_obj.display()\n",
        "savingaccount_obj=savingaccount()\n",
        "savingaccount_obj.interestrate()\n",
        "savingaccount_obj.display()\n",
        "\n"
      ],
      "metadata": {
        "colab": {
          "base_uri": "https://localhost:8080/",
          "height": 305
        },
        "id": "CkIzUkdViRbk",
        "outputId": "34f9ef08-9924-473c-b8c9-0fd3407d7357"
      },
      "execution_count": 4,
      "outputs": [
        {
          "output_type": "stream",
          "name": "stdout",
          "text": [
            "enter your namepranu\n",
            "enter your account balance50000\n",
            "enter withdrawa ammount:20000\n",
            "account balance: 30000\n"
          ]
        },
        {
          "output_type": "error",
          "ename": "AttributeError",
          "evalue": "ignored",
          "traceback": [
            "\u001b[0;31m---------------------------------------------------------------------------\u001b[0m",
            "\u001b[0;31mAttributeError\u001b[0m                            Traceback (most recent call last)",
            "\u001b[0;32m<ipython-input-4-32789c9412e4>\u001b[0m in \u001b[0;36m<module>\u001b[0;34m\u001b[0m\n\u001b[1;32m     32\u001b[0m \u001b[0maccount_obj\u001b[0m\u001b[0;34m.\u001b[0m\u001b[0mwithdrawal\u001b[0m\u001b[0;34m(\u001b[0m\u001b[0mint\u001b[0m\u001b[0;34m(\u001b[0m\u001b[0minput\u001b[0m\u001b[0;34m(\u001b[0m\u001b[0;34m\"enter withdrawa ammount:\"\u001b[0m\u001b[0;34m)\u001b[0m\u001b[0;34m)\u001b[0m\u001b[0;34m)\u001b[0m\u001b[0;34m\u001b[0m\u001b[0;34m\u001b[0m\u001b[0m\n\u001b[1;32m     33\u001b[0m \u001b[0maccount_obj\u001b[0m\u001b[0;34m.\u001b[0m\u001b[0mget_balance\u001b[0m\u001b[0;34m(\u001b[0m\u001b[0;34m)\u001b[0m\u001b[0;34m\u001b[0m\u001b[0;34m\u001b[0m\u001b[0m\n\u001b[0;32m---> 34\u001b[0;31m \u001b[0maccount_obj\u001b[0m\u001b[0;34m.\u001b[0m\u001b[0mdiposit\u001b[0m\u001b[0;34m(\u001b[0m\u001b[0mint\u001b[0m\u001b[0;34m(\u001b[0m\u001b[0minput\u001b[0m\u001b[0;34m(\u001b[0m\u001b[0;34m\"enter diposite ammount:\"\u001b[0m\u001b[0;34m)\u001b[0m\u001b[0;34m)\u001b[0m\u001b[0;34m)\u001b[0m\u001b[0;34m\u001b[0m\u001b[0;34m\u001b[0m\u001b[0m\n\u001b[0m\u001b[1;32m     35\u001b[0m \u001b[0maccount_obj\u001b[0m\u001b[0;34m.\u001b[0m\u001b[0mget_balance\u001b[0m\u001b[0;34m(\u001b[0m\u001b[0;34m)\u001b[0m\u001b[0;34m\u001b[0m\u001b[0;34m\u001b[0m\u001b[0m\n\u001b[1;32m     36\u001b[0m \u001b[0maccount_obj\u001b[0m\u001b[0;34m.\u001b[0m\u001b[0mdisplay\u001b[0m\u001b[0;34m(\u001b[0m\u001b[0;34m)\u001b[0m\u001b[0;34m\u001b[0m\u001b[0;34m\u001b[0m\u001b[0m\n",
            "\u001b[0;31mAttributeError\u001b[0m: 'account' object has no attribute 'diposit'"
          ]
        }
      ]
    }
  ]
}