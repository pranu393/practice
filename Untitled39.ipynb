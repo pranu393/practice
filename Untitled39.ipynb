{
  "nbformat": 4,
  "nbformat_minor": 0,
  "metadata": {
    "colab": {
      "provenance": [],
      "authorship_tag": "ABX9TyMam+J3hDzBHs/bROzybJIS",
      "include_colab_link": true
    },
    "kernelspec": {
      "name": "python3",
      "display_name": "Python 3"
    },
    "language_info": {
      "name": "python"
    }
  },
  "cells": [
    {
      "cell_type": "markdown",
      "metadata": {
        "id": "view-in-github",
        "colab_type": "text"
      },
      "source": [
        "<a href=\"https://colab.research.google.com/github/pranu393/practice/blob/main/Untitled39.ipynb\" target=\"_parent\"><img src=\"https://colab.research.google.com/assets/colab-badge.svg\" alt=\"Open In Colab\"/></a>"
      ]
    },
    {
      "cell_type": "code",
      "source": [
        "### Challenge 4:Implement a Banking Account\n",
        "class account:\n",
        "    def __init__(self,title=None,balance=0):\n",
        "        self.title=title\n",
        "        self.balance=balance\n",
        "\n",
        "class saving_account(account):\n",
        "    def __init__(self,title=None,balance=0,intrest_rate=0):\n",
        "        super().__init__(title,balance)\n",
        "        self.intrest_rate=intrest_rate\n",
        "\n",
        "\n",
        "account_obj=account(\"asish\",5000)\n",
        "saving_account_obj=saving_account(\"ashish\",5000,5)\n",
        "print(saving_account_obj.title)\n",
        "print(saving_account_obj.balance)\n",
        "print(saving_account_obj.intrest_rate)\n",
        "\n"
      ],
      "metadata": {
        "colab": {
          "base_uri": "https://localhost:8080/"
        },
        "id": "T-MY5dv8h3XO",
        "outputId": "88f2cad5-057d-4387-e10f-eebdf94470da"
      },
      "execution_count": 3,
      "outputs": [
        {
          "output_type": "stream",
          "name": "stdout",
          "text": [
            "ashish\n",
            "5000\n",
            "5\n"
          ]
        }
      ]
    },
    {
      "cell_type": "code",
      "source": [],
      "metadata": {
        "id": "DVv-VmvxiBHF"
      },
      "execution_count": null,
      "outputs": []
    }
  ]
}